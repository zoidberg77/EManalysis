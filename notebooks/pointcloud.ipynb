{
 "cells": [
  {
   "cell_type": "code",
   "execution_count": 19,
   "metadata": {},
   "outputs": [],
   "source": [
    "import h5py\n",
    "import open3d as o3d\n",
    "import numpy as np"
   ]
  },
  {
   "cell_type": "code",
   "execution_count": 22,
   "metadata": {},
   "outputs": [
    {
     "name": "stdout",
     "output_type": "stream",
     "text": [
      "(2041, 3)\n"
     ]
    }
   ],
   "source": [
    "with h5py.File('../datasets/pts.h5', 'r') as hf:\n",
    "    idxs = list(hf['ptcs'].keys())\n",
    "    i = 0\n",
    "    cloud = np.array(hf['ptcs'][idxs[i]])\n",
    "    print(cloud.min(), cloud.max())\n",
    "    pcd = o3d.geometry.PointCloud()\n",
    "    pcd.points = o3d.utility.Vector3dVector(cloud)\n",
    "    o3d.io.write_point_cloud(\"../datasets/open3d/{}_cloud.ply\".format(idxs[i]), pcd)\n",
    "    print(cloud.shape)"
   ]
  },
  {
   "cell_type": "code",
   "execution_count": 24,
   "metadata": {},
   "outputs": [
    {
     "name": "stdout",
     "output_type": "stream",
     "text": [
      "0.0 1.0\n"
     ]
    }
   ],
   "source": []
  },
  {
   "cell_type": "code",
   "execution_count": null,
   "metadata": {},
   "outputs": [],
   "source": []
  }
 ],
 "metadata": {
  "interpreter": {
   "hash": "e1ce41f737f4a7efd9b0f84d1858c84160c8aee12415c86efc1303e34e7f792f"
  },
  "kernelspec": {
   "display_name": "Python 3.9.7 ('EManalysis')",
   "language": "python",
   "name": "python3"
  },
  "language_info": {
   "codemirror_mode": {
    "name": "ipython",
    "version": 3
   },
   "file_extension": ".py",
   "mimetype": "text/x-python",
   "name": "python",
   "nbconvert_exporter": "python",
   "pygments_lexer": "ipython3",
   "version": "3.9.7"
  },
  "orig_nbformat": 4
 },
 "nbformat": 4,
 "nbformat_minor": 2
}
