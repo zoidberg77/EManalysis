{
 "cells": [
  {
   "cell_type": "code",
   "execution_count": 1,
   "metadata": {},
   "outputs": [],
   "source": [
    "import h5py\n",
    "import open3d as o3d\n",
    "import numpy as np"
   ]
  },
  {
   "cell_type": "code",
   "execution_count": 9,
   "metadata": {},
   "outputs": [
    {
     "name": "stdout",
     "output_type": "stream",
     "text": [
      "[[ 0.03684177  0.03355656 -0.00246312]\n",
      " [ 0.03684226  0.03355627 -0.0024633 ]\n",
      " [ 0.03684274  0.033556   -0.00246347]\n",
      " ...\n",
      " [ 0.03687491  0.03356519 -0.00246633]\n",
      " [ 0.03687496  0.03356508 -0.00246689]\n",
      " [ 0.03687502  0.033565   -0.00246747]]\n"
     ]
    }
   ],
   "source": [
    "with h5py.File('shapef.h5', 'r') as hf:\n",
    "    i = 0\n",
    "    cloud = np.array(hf['output'][i])\n",
    "    pcd = o3d.geometry.PointCloud()\n",
    "    pcd.points = o3d.utility.Vector3dVector(cloud)\n",
    "    o3d.io.write_point_cloud(\"datasets/open3d/{}_cloud.ply\".format(i), pcd)"
   ]
  },
  {
   "cell_type": "code",
   "execution_count": null,
   "metadata": {},
   "outputs": [],
   "source": []
  }
 ],
 "metadata": {
  "interpreter": {
   "hash": "e1ce41f737f4a7efd9b0f84d1858c84160c8aee12415c86efc1303e34e7f792f"
  },
  "kernelspec": {
   "display_name": "Python 3.9.7 ('EManalysis')",
   "language": "python",
   "name": "python3"
  },
  "language_info": {
   "codemirror_mode": {
    "name": "ipython",
    "version": 3
   },
   "file_extension": ".py",
   "mimetype": "text/x-python",
   "name": "python",
   "nbconvert_exporter": "python",
   "pygments_lexer": "ipython3",
   "version": "3.9.7"
  },
  "orig_nbformat": 4
 },
 "nbformat": 4,
 "nbformat_minor": 2
}
