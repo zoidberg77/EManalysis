{
 "cells": [
  {
   "cell_type": "code",
   "execution_count": 20,
   "id": "still-lebanon",
   "metadata": {},
   "outputs": [],
   "source": [
    "import os, sys\n",
    "import numpy as np\n",
    "import h5py\n",
    "import json\n",
    "import seaborn as sns\n",
    "import matplotlib.pyplot as plt\n",
    "import pandas as pd"
   ]
  },
  {
   "cell_type": "code",
   "execution_count": 21,
   "metadata": {},
   "outputs": [],
   "source": [
    "ds = []\n",
    "\n",
    "with h5py.File('../features/surfacef.h5', 'r') as sf:\n",
    "    for i, id in enumerate(sf['id']):\n",
    "        ds.append([id, sf['surface'][i]])\n",
    "\n",
    "with h5py.File('../features/sizef.h5', 'r') as sf:\n",
    "    for row in ds:\n",
    "        for i, id in enumerate(sf['id']):\n",
    "            if row[0] == id:\n",
    "                row.append(sf['size'][i])         "
   ]
  },
  {
   "cell_type": "code",
   "execution_count": 22,
   "id": "e95f20b4",
   "metadata": {},
   "outputs": [
    {
     "data": {
      "text/plain": [
       "<AxesSubplot:xlabel='surface', ylabel='volume'>"
      ]
     },
     "execution_count": 22,
     "metadata": {},
     "output_type": "execute_result"
    },
    {
     "data": {
      "image/png": "[encoded data removed]",
      "text/plain": [
       "<Figure size 432x288 with 1 Axes>"
      ]
     },
     "metadata": {
      "needs_background": "light"
     },
     "output_type": "display_data"
    }
   ],
   "source": [
    "df = pd.DataFrame(ds, columns=['id', 'surface', 'volume'])\n",
    "sns.regplot(x=df['surface'], y=df['volume'], scatter_kws={'alpha':0.3}, fit_reg=False)"
   ]
  },
  {
   "cell_type": "code",
   "execution_count": 23,
   "id": "7feb92dd",
   "metadata": {},
   "outputs": [
    {
     "data": {
      "text/html": [
       "<div>\n",
       "<style scoped>\n",
       "    .dataframe tbody tr th:only-of-type {\n",
       "        vertical-align: middle;\n",
       "    }\n",
       "\n",
       "    .dataframe tbody tr th {\n",
       "        vertical-align: top;\n",
       "    }\n",
       "\n",
       "    .dataframe thead th {\n",
       "        text-align: right;\n",
       "    }\n",
       "</style>\n",
       "<table border=\"1\" class=\"dataframe\">\n",
       "  <thead>\n",
       "    <tr style=\"text-align: right;\">\n",
       "      <th></th>\n",
       "      <th>id</th>\n",
       "      <th>surface</th>\n",
       "      <th>volume</th>\n",
       "    </tr>\n",
       "  </thead>\n",
       "  <tbody>\n",
       "    <tr>\n",
       "      <th>1</th>\n",
       "      <td>10</td>\n",
       "      <td>5.313367e+05</td>\n",
       "      <td>2442114</td>\n",
       "    </tr>\n",
       "    <tr>\n",
       "      <th>102</th>\n",
       "      <td>11</td>\n",
       "      <td>1.569907e+05</td>\n",
       "      <td>665795</td>\n",
       "    </tr>\n",
       "    <tr>\n",
       "      <th>213</th>\n",
       "      <td>12</td>\n",
       "      <td>3.870367e+05</td>\n",
       "      <td>1958991</td>\n",
       "    </tr>\n",
       "    <tr>\n",
       "      <th>280</th>\n",
       "      <td>13</td>\n",
       "      <td>9.897116e+04</td>\n",
       "      <td>324071</td>\n",
       "    </tr>\n",
       "    <tr>\n",
       "      <th>292</th>\n",
       "      <td>140</td>\n",
       "      <td>9.221283e+04</td>\n",
       "      <td>352015</td>\n",
       "    </tr>\n",
       "    <tr>\n",
       "      <th>293</th>\n",
       "      <td>141</td>\n",
       "      <td>7.033340e+04</td>\n",
       "      <td>286664</td>\n",
       "    </tr>\n",
       "    <tr>\n",
       "      <th>295</th>\n",
       "      <td>143</td>\n",
       "      <td>1.183409e+05</td>\n",
       "      <td>416761</td>\n",
       "    </tr>\n",
       "    <tr>\n",
       "      <th>297</th>\n",
       "      <td>145</td>\n",
       "      <td>1.628892e+05</td>\n",
       "      <td>603617</td>\n",
       "    </tr>\n",
       "    <tr>\n",
       "      <th>298</th>\n",
       "      <td>146</td>\n",
       "      <td>9.117041e+04</td>\n",
       "      <td>354941</td>\n",
       "    </tr>\n",
       "    <tr>\n",
       "      <th>300</th>\n",
       "      <td>148</td>\n",
       "      <td>1.113049e+05</td>\n",
       "      <td>447178</td>\n",
       "    </tr>\n",
       "    <tr>\n",
       "      <th>301</th>\n",
       "      <td>149</td>\n",
       "      <td>3.933773e+05</td>\n",
       "      <td>1761606</td>\n",
       "    </tr>\n",
       "    <tr>\n",
       "      <th>313</th>\n",
       "      <td>16</td>\n",
       "      <td>2.585902e+06</td>\n",
       "      <td>50278731</td>\n",
       "    </tr>\n",
       "    <tr>\n",
       "      <th>356</th>\n",
       "      <td>2</td>\n",
       "      <td>3.200066e+05</td>\n",
       "      <td>1617438</td>\n",
       "    </tr>\n",
       "    <tr>\n",
       "      <th>689</th>\n",
       "      <td>5</td>\n",
       "      <td>6.951137e+05</td>\n",
       "      <td>3533875</td>\n",
       "    </tr>\n",
       "    <tr>\n",
       "      <th>907</th>\n",
       "      <td>7</td>\n",
       "      <td>1.016498e+06</td>\n",
       "      <td>5467506</td>\n",
       "    </tr>\n",
       "    <tr>\n",
       "      <th>1003</th>\n",
       "      <td>8</td>\n",
       "      <td>2.459827e+05</td>\n",
       "      <td>951982</td>\n",
       "    </tr>\n",
       "  </tbody>\n",
       "</table>\n",
       "</div>"
      ],
      "text/plain": [
       "       id       surface    volume\n",
       "1      10  5.313367e+05   2442114\n",
       "102    11  1.569907e+05    665795\n",
       "213    12  3.870367e+05   1958991\n",
       "280    13  9.897116e+04    324071\n",
       "292   140  9.221283e+04    352015\n",
       "293   141  7.033340e+04    286664\n",
       "295   143  1.183409e+05    416761\n",
       "297   145  1.628892e+05    603617\n",
       "298   146  9.117041e+04    354941\n",
       "300   148  1.113049e+05    447178\n",
       "301   149  3.933773e+05   1761606\n",
       "313    16  2.585902e+06  50278731\n",
       "356     2  3.200066e+05   1617438\n",
       "689     5  6.951137e+05   3533875\n",
       "907     7  1.016498e+06   5467506\n",
       "1003    8  2.459827e+05    951982"
      ]
     },
     "execution_count": 23,
     "metadata": {},
     "output_type": "execute_result"
    }
   ],
   "source": [
    "df[df['volume'] >= 250000]"
   ]
  },
  {
   "cell_type": "code",
   "execution_count": 24,
   "id": "701d6071",
   "metadata": {},
   "outputs": [
    {
     "data": {
      "text/plain": [
       "<AxesSubplot:xlabel='surface', ylabel='volume'>"
      ]
     },
     "execution_count": 24,
     "metadata": {},
     "output_type": "execute_result"
    },
    {
     "data": {
      "image/png": "[encoded data removed]",
      "text/plain": [
       "<Figure size 432x288 with 1 Axes>"
      ]
     },
     "metadata": {
      "needs_background": "light"
     },
     "output_type": "display_data"
    }
   ],
   "source": [
    "df = df[df['volume'] < 250000]\n",
    "sns.regplot(x=df['surface'], y=df['volume'], scatter_kws={'alpha':0.3}, fit_reg=False)"
   ]
  },
  {
   "cell_type": "code",
   "execution_count": 25,
   "id": "63b06d06",
   "metadata": {},
   "outputs": [
    {
     "data": {
      "text/plain": [
       "[None, None]"
      ]
     },
     "execution_count": 25,
     "metadata": {},
     "output_type": "execute_result"
    },
    {
     "data": {
      "image/png": "[encoded data removed]",
      "text/plain": [
       "<Figure size 432x288 with 1 Axes>"
      ]
     },
     "metadata": {
      "needs_background": "light"
     },
     "output_type": "display_data"
    }
   ],
   "source": [
    "df = pd.DataFrame(ds, columns=['id', 'surface', 'volume'])\n",
    "splot = sns.regplot(x=df['surface'], y=df['volume'], scatter_kws={'alpha':0.3}, fit_reg=False)\n",
    "splot.set(xscale=\"log\", yscale=\"log\")"
   ]
  },
  {
   "cell_type": "code",
   "execution_count": null,
   "id": "0739394e",
   "metadata": {},
   "outputs": [],
   "source": []
  }
 ],
 "metadata": {
  "interpreter": {
   "hash": "e1ce41f737f4a7efd9b0f84d1858c84160c8aee12415c86efc1303e34e7f792f"
  },
  "kernelspec": {
   "display_name": "Python 3.9.7 ('EManalysis')",
   "language": "python",
   "name": "python3"
  },
  "language_info": {
   "codemirror_mode": {
    "name": "ipython",
    "version": 3
   },
   "file_extension": ".py",
   "mimetype": "text/x-python",
   "name": "python",
   "nbconvert_exporter": "python",
   "pygments_lexer": "ipython3",
   "version": "3.8.13"
  }
 },
 "nbformat": 4,
 "nbformat_minor": 5
}
